{
 "cells": [
  {
   "cell_type": "code",
   "execution_count": 1,
   "metadata": {},
   "outputs": [],
   "source": [
    "import numpy as np"
   ]
  },
  {
   "cell_type": "code",
   "execution_count": null,
   "metadata": {},
   "outputs": [],
   "source": [
    "class Model:\n",
    "    def __init__(self, X, y, bounds, regression_function, *, train_split=0.8):\n",
    "        '''\n",
    "        Intialize Model class\n",
    "\n",
    "        X: 1-D array. Features array\n",
    "        y: 1-D array. Labels array\n",
    "        bounds: 2-D array. Parameters bound array of (left_bound, right_bound) tuples. left_bound < right_bound\n",
    "        train_split: float in (0, 1) \n",
    "        regression_funcion: function to be fitted. Signature is (y, **params)\n",
    "        '''\n",
    "        self.train_test_partition(X, y, train_split)\n",
    "        self.init_params(bounds)\n",
    "\n",
    "        self.fit_function = np.vectorize(regression_function, excluded=self.params.keys())\n",
    "\n",
    "    def train_test_partition(self, X, y, train_split):\n",
    "        '''\n",
    "        Splitting data into test and train sets\n",
    "        '''\n",
    "        n = int(len(X) * train_split)\n",
    "\n",
    "        data = zip(X, y)\n",
    "        shuffled_data = np.random.shuffle(data)\n",
    "        self.X_train, self.y_train = shuffled_data[:n][0], shuffled_data[:n][1]\n",
    "        self.X_test, self.y_test = shuffled_data[n:][0], shuffled_data[n:][1]\n",
    "\n",
    "    def init_params(self, bounds):\n",
    "        '''\n",
    "        Intializes parameters\n",
    "        '''\n",
    "        self.params = {}\n",
    "        for i, (left, right) in enumerate(bounds):\n",
    "            self.params[f\"b{i}\"] = np.random.rand() * (right - left) + left\n",
    "\n",
    "    def loss(self):\n",
    "        '''\n",
    "        Computes loss function\n",
    "        '''\n",
    "        y_hat = self.fit_function(self.X_train)\n",
    "        mse = (y_hat - self.y_train) ** 2 / 2\n",
    "        return mse"
   ]
  }
 ],
 "metadata": {
  "kernelspec": {
   "display_name": "Python 3",
   "language": "python",
   "name": "python3"
  },
  "language_info": {
   "codemirror_mode": {
    "name": "ipython",
    "version": 3
   },
   "file_extension": ".py",
   "mimetype": "text/x-python",
   "name": "python",
   "nbconvert_exporter": "python",
   "pygments_lexer": "ipython3",
   "version": "3.9.5"
  }
 },
 "nbformat": 4,
 "nbformat_minor": 2
}
