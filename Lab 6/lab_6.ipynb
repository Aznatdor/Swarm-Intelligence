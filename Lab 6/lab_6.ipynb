{
 "cells": [
  {
   "cell_type": "code",
   "execution_count": 100,
   "metadata": {},
   "outputs": [],
   "source": [
    "import numpy as np\n",
    "import pandas as pd\n",
    "import matplotlib.pyplot as plt"
   ]
  },
  {
   "cell_type": "code",
   "execution_count": 140,
   "metadata": {},
   "outputs": [],
   "source": [
    "def plot_results(model, params):\n",
    "    left, right = min(model.X_train), max(model.X_train)\n",
    "    r = np.linspace(left, right, 100)\n",
    "    fig, ax = plt.subplots(1, 2, figsize=(10, 5))\n",
    "    ax[0].scatter(model.X_train, model.y_train, label=\"Real data\")\n",
    "    ax[0].scatter(model.X_train, model.fit_function(model.X_train, params), label=\"Train\")\n",
    "    ax[0].plot(r, model.fit_function(r, params))\n",
    "    ax[0].set_title(\"Training set\")\n",
    "    ax[0].legend()\n",
    "\n",
    "    left, right = min(model.X_test), max(model.X_test)\n",
    "    r = np.linspace(left, right, 100)\n",
    "    ax[1].scatter(model.X_test, model.y_test, label=\"Real data\")\n",
    "    ax[1].scatter(model.X_test, model.fit_function(model.X_test, params), label=\"Test\")\n",
    "    ax[1].plot(r, model.fit_function(r, params))\n",
    "    ax[1].set_title(\"Test set\")\n",
    "    ax[1].legend()\n",
    "    plt.show()\n",
    "\n",
    "def get_data(variant):\n",
    "    if variant < 10:\n",
    "        variant = '0' + str(variant)\n",
    "    var = pd.read_excel(\"DataRegression.xlsx\", sheet_name=f\"Var{variant}\")\n",
    "    return var['x'].to_numpy(), var['y'].to_numpy()"
   ]
  },
  {
   "cell_type": "code",
   "execution_count": 143,
   "metadata": {},
   "outputs": [],
   "source": [
    "def var7_func(x, params):\n",
    "    b1, b2, b3, b4, b5, b6, b7 = params\n",
    "    return (b1 + b2 * x + b3 * x ** 2 + b4 * x ** 3) / (1 + b5 * x + b6 * x ** + b7 ** 3)\n",
    "\n",
    "def var12_func(x, params):\n",
    "    b1, b2, b3, b4 = params\n",
    "    return b1 - b2 * x - (1 / np.pi) * np.arctan(b3 / (x - b4))\n",
    "\n",
    "def var16_func(x, params):\n",
    "    b1, b2, b3 = params\n",
    "    return (b1 / b2) * np.exp(-0.5 * ((x - b3) / b2) ** 2)"
   ]
  },
  {
   "cell_type": "code",
   "execution_count": 142,
   "metadata": {},
   "outputs": [],
   "source": [
    "X_var7, y_var7 = get_data(7)\n",
    "\n",
    "X_var12, y_var12 = get_data(12)\n",
    "\n",
    "X_var16, y_var16 = get_data(16)"
   ]
  },
  {
   "cell_type": "code",
   "execution_count": 135,
   "metadata": {},
   "outputs": [],
   "source": [
    "class Model:\n",
    "    def __init__(self, X, y, regression_function, *, train_split=0.75):\n",
    "        '''\n",
    "        Intialize Model class\n",
    "\n",
    "        X: 1-D array. Features array\n",
    "        y: 1-D array. Labels array\n",
    "        train_split: float in (0, 1) \n",
    "        regression_funcion: function to be fitted.\n",
    "        '''\n",
    "        self.train_test_partition(X, y, train_split)\n",
    "\n",
    "        self.fit_function = regression_function\n",
    "\n",
    "    def train_test_partition(self, X, y, train_split):\n",
    "        '''\n",
    "        Splitting data into test and train sets\n",
    "        '''\n",
    "        n = int(len(X) * train_split)\n",
    "\n",
    "        data = np.array(list(zip(X, y)))\n",
    "        np.random.shuffle(data)\n",
    "        self.X_train, self.y_train = data[:n, 0], data[:n, 1]\n",
    "        self.X_test, self.y_test = data[n:, 0], data[n:, 1]\n",
    "\n",
    "\n",
    "    def loss(self, params):\n",
    "        '''\n",
    "        Computes loss function\n",
    "        '''\n",
    "        y_hat = self.fit_function(x=self.X_train, params=params)\n",
    "        mse = np.mean((y_hat - self.y_train) ** 2) / 2\n",
    "        return mse\n",
    "    \n",
    "    def test_loss(self, params):\n",
    "        '''\n",
    "        Computes loss function on test set\n",
    "        '''\n",
    "        y_hat = self.fit_function(x=self.X_test, params=params)\n",
    "        mse = np.mean((y_hat - self.y_test) ** 2) / 2\n",
    "        return mse"
   ]
  },
  {
   "cell_type": "code",
   "execution_count": 148,
   "metadata": {},
   "outputs": [],
   "source": [
    "class PSO:\n",
    "    def __init__(self, num_pop, num_dim, cognitive, social, bounds, min_velocity, max_velocity):\n",
    "        '''\n",
    "        num_pop: number of particles\n",
    "        num_dim: dimesionality\n",
    "        cognitive: cognitive component coeficient\n",
    "        social: social component coeficient\n",
    "        left_bound: left bound of particles search area\n",
    "        right_bound right bound of particles search area\n",
    "        min_velocity: minimal allowed velocity\n",
    "        max_velocity: maximum allowed velocity\n",
    "        '''\n",
    "        assert 0 < cognitive < 4, \"Cognitive coeficient must be in (0, 4)\"\n",
    "        assert 0 < social < 4, \"Social coeficient must be in (0, 4)\"\n",
    "        assert np.all(max_velocity > 0), \"Maximum velocity must be positive\"\n",
    "\n",
    "        self.num_pop = num_pop\n",
    "        self.num_dim = num_dim\n",
    "\n",
    "        self.cognitive = cognitive\n",
    "        self.social = social\n",
    "\n",
    "        self.left_bound, self.right_bound = bounds[:, 0], bounds[:, 1]\n",
    "\n",
    "        self.min_velocity = min_velocity\n",
    "        self.max_velocity = max_velocity\n",
    "\n",
    "        # Initializing particles\n",
    "        \n",
    "        self.positions = np.random.rand(self.num_pop, self.num_dim) * (self.right_bound - self.left_bound) + self.left_bound\n",
    "        \n",
    "        self.best_positions = np.copy(self.positions) # initializing best positions as starting positions\n",
    "\n",
    "        self.velocities = np.random.rand(self.num_pop, self.num_dim) * (self.max_velocity - self.min_velocity) + self.min_velocity\n",
    "\n",
    "    def clip_position_higer(self, position):\n",
    "        return np.where(position > self.right_bound, self.right_bound - abs(position - self.right_bound), position)\n",
    "    \n",
    "    def clip_positon_low(self, position):\n",
    "        return np.where(position > self.left_bound, self.left_bound + abs(position - self.left_bound), position)\n",
    "    \n",
    "    def main_loop(self, model, num_iter=20, *, verbose=True):\n",
    "        objective_function = model.loss\n",
    "        best_fittnes = np.apply_along_axis(objective_function, axis=1,  arr=self.positions)\n",
    "\n",
    "        leader = np.argmin(best_fittnes)\n",
    "\n",
    "        # Initializing result variables\n",
    "        global_minimum_position = self.positions[leader]\n",
    "        global_minimum_value = np.min(best_fittnes)\n",
    "\n",
    "        for i in range(num_iter):\n",
    "            # Random vectors\n",
    "            r1 = np.random.rand(1, self.num_dim)\n",
    "            r2 = np.random.rand(1, self.num_dim)\n",
    "\n",
    "            # Modifying velocities\n",
    "            self.velocities += (self.cognitive * (self.best_positions - self.positions) * r1 + \n",
    "                                    self.social * (global_minimum_position - self.positions) * r2)\n",
    "            \n",
    "            self.velocities = np.maximum(self.velocities, self.min_velocity)\n",
    "            self.velocities = np.minimum(self.velocities, self.max_velocity)\n",
    "            \n",
    "            # Modifying positons\n",
    "            self.positions += self.velocities\n",
    "\n",
    "            # inverting velocities depending on particle position\n",
    "            self.velocities = np.where((self.positions < self.left_bound) | (self.best_positions > self.right_bound), -self.velocities, self.velocities)\n",
    "\n",
    "            # Clipping positions\n",
    "            self.positions = self.clip_position_higer(self.positions)\n",
    "            self.positions = self.clip_positon_low(self.positions)\n",
    "\n",
    "            # Updating personal record\n",
    "            fittnes = np.apply_along_axis(objective_function, axis=1,  arr=self.positions)\n",
    "\n",
    "            # Updating postions\n",
    "            for j in range(self.num_pop):\n",
    "                if fittnes[j] < best_fittnes[j]:\n",
    "                    self.best_positions[j] = self.positions[j]\n",
    "\n",
    "            best_fittnes = np.minimum(best_fittnes, fittnes)\n",
    "            \n",
    "            leader = np.argmin(best_fittnes)\n",
    "\n",
    "\n",
    "            # Upadating result\n",
    "            if global_minimum_value > objective_function(self.positions[leader]) and not np.isinf(best_fittnes[leader]):\n",
    "                global_minimum_position = np.copy(self.positions[leader])\n",
    "                global_minimum_value = objective_function(self.positions[leader])\n",
    "\n",
    "            if verbose:\n",
    "                print(\"Ітерація %i\\nЗначення %.3f\\nТочка %s\\n\" % (i + 1, global_minimum_value, global_minimum_position))\n",
    "\n",
    "\n",
    "        return np.squeeze(global_minimum_position)\n",
    "    "
   ]
  },
  {
   "cell_type": "code",
   "execution_count": 159,
   "metadata": {},
   "outputs": [],
   "source": [
    "class DE:\n",
    "    def __init__(self, num_pop, num_dim, bounds):\n",
    "        self.num_pop, self.num_dim = num_pop, num_dim\n",
    "        self.left_bound, self.right_bound = bounds[:, 0], bounds[:, 1]\n",
    "        self.population = np.random.rand(self.num_pop, self.num_dim) * (self.right_bound - self.left_bound) + self.left_bound\n",
    "\n",
    "    def main_loop(self, num_iter, F, P, model, *, verbose=True):\n",
    "        best_res = np.inf\n",
    "        best_pos = None\n",
    "\n",
    "        for i in range(num_iter):\n",
    "            for pos in range(self.num_pop):\n",
    "                p1, p2, p3 = np.random.choice(self.num_pop, 3)\n",
    "\n",
    "                while p1 == p2 or p2 == p3 or p1 == p3:\n",
    "                    p1, p2, p3 = np.random.choice(self.num_pop, 3)\n",
    "\n",
    "                x1, x2, x3 = self.population[[p1, p2, p3]]\n",
    "                v = x1 + F * (x2 - x3)\n",
    "\n",
    "                # v = np.where(np.random.rand(self.num_dim, ) < P, self.population[pos], v)\n",
    "\n",
    "                for j in range(self.num_dim):\n",
    "                    if np.random.rand() < P:\n",
    "                        v[j] = self.population[pos][j]\n",
    "\n",
    "                if model.loss(v) < model.loss(self.population[pos]):\n",
    "                    self.population[pos] = v.copy()\n",
    "\n",
    "            fitness = np.apply_along_axis(model.loss, 1, self.population)\n",
    "            min_ind = fitness.argmin()\n",
    "\n",
    "            if fitness[min_ind] < best_res:\n",
    "                best_res = fitness[min_ind].copy()\n",
    "                best_pos = self.population[min_ind].copy()\n",
    "\n",
    "            if verbose:\n",
    "                print(\"Ітерація %i\\nЗначення %.3f\\nТочка %s\\n\" % (i + 1, best_res, best_pos))\n",
    "\n",
    "        return best_pos"
   ]
  },
  {
   "cell_type": "code",
   "execution_count": 149,
   "metadata": {},
   "outputs": [
    {
     "name": "stdout",
     "output_type": "stream",
     "text": [
      "Loss on train set 1.052e-04\n",
      "Loss on test set 8.250e-05\n"
     ]
    }
   ],
   "source": [
    "bounds_var12 = np.array([\n",
    "    (-1, 1), (-1, 1), (1000, 2000), (-200, 200)\n",
    "])\n",
    "model = Model(X_var12, y_var12, var12_func)\n",
    "test = PSO(100, len(bounds_var12), 1, 3, bounds_var12, -1e-1, 1e-1)\n",
    "params_var12 = test.main_loop(model, 500, verbose=False)\n",
    "print(\"Loss on train set %.3e\\nLoss on test set %.3e\" % (model.loss(params_var12), model.test_loss(params_var12)))"
   ]
  },
  {
   "cell_type": "code",
   "execution_count": 163,
   "metadata": {},
   "outputs": [
    {
     "name": "stdout",
     "output_type": "stream",
     "text": [
      "Loss on train set 7.639e-04\n",
      "Loss on test set 8.976e-04\n"
     ]
    }
   ],
   "source": [
    "test_e = DE(100, len(bounds_var12), bounds_var12)\n",
    "p_var12 = test_e.main_loop(500, 1, 0.5, model, verbose=False)\n",
    "print(\"Loss on train set %.3e\\nLoss on test set %.3e\" % (model.loss(p_var12), model.test_loss(p_var12)))"
   ]
  },
  {
   "cell_type": "code",
   "execution_count": 164,
   "metadata": {},
   "outputs": [
    {
     "data": {
      "image/png": "[encoded data removed]",
      "text/plain": [
       "<Figure size 1000x500 with 2 Axes>"
      ]
     },
     "metadata": {},
     "output_type": "display_data"
    }
   ],
   "source": [
    "plot_results(model, p_var12)"
   ]
  }
 ],
 "metadata": {
  "kernelspec": {
   "display_name": "Python 3",
   "language": "python",
   "name": "python3"
  },
  "language_info": {
   "codemirror_mode": {
    "name": "ipython",
    "version": 3
   },
   "file_extension": ".py",
   "mimetype": "text/x-python",
   "name": "python",
   "nbconvert_exporter": "python",
   "pygments_lexer": "ipython3",
   "version": "3.9.5"
  }
 },
 "nbformat": 4,
 "nbformat_minor": 2
}
