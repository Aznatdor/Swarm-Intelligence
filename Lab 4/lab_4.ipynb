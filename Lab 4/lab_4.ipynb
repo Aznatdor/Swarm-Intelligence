{
 "cells": [
  {
   "cell_type": "code",
   "execution_count": 88,
   "metadata": {},
   "outputs": [],
   "source": [
    "import optimizers as opt\n",
    "import helper_functions as helper"
   ]
  },
  {
   "cell_type": "code",
   "execution_count": null,
   "metadata": {},
   "outputs": [],
   "source": [
    "\"\"\"\n",
    "Circle\n",
    "init_pheromone = 0.2\n",
    "test.main_loop(num_iter=50, alpha=1, beta=4, rho=1e-1, Q=6)\n",
    "\n",
    "TSP1\n",
    "test.main_loop(num_iter=50, alpha=1, beta=5, rho=1e-1, Q=564)\n",
    "\"\"\"\n",
    "graph, perim = helper.create_circle(400)\n",
    "test = opt.ACO(graph, init_pheromone=0.2)\n",
    "dist, route = test.main_loop_plot(num_iter=25, alpha=1, beta=4, rho=2e-1, Q=6, gif_name=\"circle_400_ACO\")\n",
    "print(\"Min dist: %.3f\\n Real min dist: %.3f\" % (dist, perim))"
   ]
  },
  {
   "cell_type": "code",
   "execution_count": null,
   "metadata": {},
   "outputs": [],
   "source": [
    "\"\"\"\n",
    "tsp131 - 564\n",
    "tsp237 - 1019\n",
    "\"\"\"\n",
    "\n",
    "# graph, perim = create_circle(100)\n",
    "file_path = r\"datasets\\tsp131.tsp\"\n",
    "graph = helper.read_tsp_file(file_path)\n",
    "test = opt.GO(130, graph)\n",
    "dist, route = test.main_loop_plot(1000, 130, 0.4, gif_name=\"test\")\n",
    "# print(\"Min dist: %.3f\\n Real min dist: %.3f\" % (dist, perim))"
   ]
  }
 ],
 "metadata": {
  "kernelspec": {
   "display_name": "Python 3",
   "language": "python",
   "name": "python3"
  },
  "language_info": {
   "codemirror_mode": {
    "name": "ipython",
    "version": 3
   },
   "file_extension": ".py",
   "mimetype": "text/x-python",
   "name": "python",
   "nbconvert_exporter": "python",
   "pygments_lexer": "ipython3",
   "version": "3.9.5"
  }
 },
 "nbformat": 4,
 "nbformat_minor": 2
}
