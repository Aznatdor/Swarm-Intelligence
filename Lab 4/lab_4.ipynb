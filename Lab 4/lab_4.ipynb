{
 "cells": [
  {
   "cell_type": "code",
   "execution_count": 1,
   "metadata": {},
   "outputs": [],
   "source": [
    "import numpy as np\n",
    "import matplotlib.pyplot as plt\n",
    "from PIL import Image\n",
    "from matplotlib.backends.backend_agg import FigureCanvasAgg\n",
    "import matplotlib\n",
    "import optimizers as opt\n",
    "import helper_functions as helper\n",
    "matplotlib.use('Agg')"
   ]
  },
  {
   "cell_type": "code",
   "execution_count": null,
   "metadata": {},
   "outputs": [],
   "source": [
    "\"\"\"\n",
    "Min distance: 6.868\n",
    "Min route [ 0  1  2  3  4  5  6  7  8  9 10 11 12 13 14 15 16 18 17 19]\n",
    "Real ans 6.257\n",
    "\n",
    "Min route [ 0  1  2  3  4  5  6  7  8  9 10 11 12 13 14 15 16 17 18 19 20 21 22 23\n",
    " 24 25 26 27 28 29]\n",
    "Min dist: 6.272\n",
    " Real min dist: 6.272\n",
    "\n",
    "Circle\n",
    "init_pheromone = 0.2\n",
    "test.main_loop(num_iter=50, alpha=1, beta=4, rho=1e-1, Q=6)\n",
    "\n",
    "TSP1\n",
    "test.main_loop(num_iter=50, alpha=1, beta=5, rho=1e-1, Q=564)\n",
    "\"\"\"\n",
    "# tsp1 = read_tsp_file(file_path) # Q = 564\n",
    "graph, perim = helper.create_circle(400)\n",
    "test = opt.ACO(graph, init_pheromone=0.2)\n",
    "dist, route = test.main_loop_plot(num_iter=25, alpha=1, beta=4, rho=2e-1, Q=6, gif_name=\"circle_400_ACO\")\n",
    "print(\"Min dist: %.3f\\n Real min dist: %.3f\" % (dist, perim))"
   ]
  },
  {
   "cell_type": "code",
   "execution_count": null,
   "metadata": {},
   "outputs": [],
   "source": [
    "# graph, perim = create_circle(100)\n",
    "file_path = None\n",
    "graph = helper.read_tsp_file(file_path)\n",
    "test = opt.GO(130, graph)\n",
    "dist, route = test.main_loop_plot(1000, 130, 0.4, gif_name=\"test\")\n",
    "# print(\"Min dist: %.3f\\n Real min dist: %.3f\" % (dist, perim))"
   ]
  }
 ],
 "metadata": {
  "kernelspec": {
   "display_name": "Python 3",
   "language": "python",
   "name": "python3"
  },
  "language_info": {
   "codemirror_mode": {
    "name": "ipython",
    "version": 3
   },
   "file_extension": ".py",
   "mimetype": "text/x-python",
   "name": "python",
   "nbconvert_exporter": "python",
   "pygments_lexer": "ipython3",
   "version": "3.9.5"
  }
 },
 "nbformat": 4,
 "nbformat_minor": 2
}
