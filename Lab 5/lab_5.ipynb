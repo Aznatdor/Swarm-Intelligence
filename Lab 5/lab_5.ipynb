{
 "cells": [
  {
   "cell_type": "code",
   "execution_count": 12,
   "metadata": {},
   "outputs": [],
   "source": [
    "import numpy as np\n",
    "import matplotlib.pyplot as plt\n",
    "from PIL import Image\n",
    "from matplotlib.backends.backend_agg import FigureCanvasAgg"
   ]
  },
  {
   "cell_type": "code",
   "execution_count": 2,
   "metadata": {},
   "outputs": [],
   "source": [
    "def get_data(filepath):\n",
    "    weights, costs = [], []\n",
    "    with open(filepath) as file:\n",
    "        weight = int(file.readline())\n",
    "\n",
    "        for line in file.readlines():\n",
    "            w, c = map(int, line.split())\n",
    "            weights.append(w)\n",
    "            costs.append(c)\n",
    "\n",
    "    return weight, np.array(weights), np.array(costs)"
   ]
  },
  {
   "cell_type": "code",
   "execution_count": 3,
   "metadata": {},
   "outputs": [],
   "source": [
    "class SAO:\n",
    "    def __init__(self, num_dims):\n",
    "        self.solution = np.random.randint(0, 2, size=(num_dims,))\n",
    "\n",
    "    def main_loop(self, num_iter, threshold_weight, weights, costs, decay_function=lambda x: x, *, verbose=True):\n",
    "        t = 0\n",
    "        best_res = -np.inf\n",
    "        best_solution = np.copy(self.solution)\n",
    "\n",
    "        prev_fitness = -np.inf\n",
    "        for i in range(1, num_iter + 1):\n",
    "            # Generating new solution\n",
    "            new_solution = np.copy(self.solution)\n",
    "            ind = np.random.randint(0, self.solution.shape[0])\n",
    "            new_solution[ind] = 1 - new_solution[ind]\n",
    "\n",
    "            # Computing fitness\n",
    "            weight = sum(new_solution * weights)\n",
    "            fitness = sum(new_solution * costs) if weight <= threshold_weight else -np.inf\n",
    "\n",
    "            delta_E = fitness - prev_fitness\n",
    "\n",
    "            # Updating the result\n",
    "            if delta_E >= 0 or np.random.rand() < np.exp(delta_E / i):\n",
    "                self.solution = np.copy(new_solution)\n",
    "\n",
    "            # Updating the best solution so far\n",
    "            if fitness > best_res:\n",
    "                best_res = np.copy(fitness)\n",
    "                best_solution = np.copy(new_solution)\n",
    "\n",
    "            t = decay_function(i)\n",
    "\n",
    "            if verbose:\n",
    "                print(\"Iteration: %i\\nBest cost: %s\\nBest solution: %s\" % (i, best_res, best_solution))\n",
    "\n",
    "        return best_res, best_solution"
   ]
  },
  {
   "cell_type": "code",
   "execution_count": 168,
   "metadata": {},
   "outputs": [
    {
     "name": "stdout",
     "output_type": "stream",
     "text": [
      "The answer should have weight not bigger than 1989. Answer weight is 1985\n",
      "3067\n"
     ]
    }
   ],
   "source": [
    "weight, weights, costs = get_data(r\"Datasets\\Data50.txt\")\n",
    "test = SAO(len(weights))\n",
    "res, sol = test.main_loop(10_000, weight, weights, costs, decay_function=lambda x: np.exp(-x/10 ** 3), verbose=False)\n",
    "print(f\"The answer should have weight not bigger than {weight}. Answer weight is\", sum(weights * sol))\n",
    "print(res)"
   ]
  },
  {
   "cell_type": "code",
   "execution_count": 29,
   "metadata": {},
   "outputs": [],
   "source": [
    "class GO:\n",
    "    def __init__(self, num_pop, num_dims):\n",
    "        self.num_pop = num_pop\n",
    "        self.population = np.random.randint(0, 2, size=(num_pop, num_dims))\n",
    " \n",
    "    @np.vectorize(excluded=['population', \"mutation_chance\", \"result\"])\n",
    "    def crossover(num_child, population, result, mutation_chance=0.3):\n",
    "        n = len(population)\n",
    "        p1, p2 = np.random.randint(0, n), np.random.randint(0, n)\n",
    "\n",
    "        while p1 == p2:\n",
    "            p1 = np.random.randint(0, n)\n",
    "\n",
    "        # Creating empty children variables\n",
    "        child1, child2 = np.zeros_like(population[p1]), np.zeros_like(population[p1])\n",
    "\n",
    "        # Deciding on crossover point\n",
    "        crossover_point = np.random.randint(0, population.shape[1])\n",
    "\n",
    "        # Generating the first child\n",
    "        child1[:crossover_point] = population[p1][:crossover_point]\n",
    "        child1[crossover_point:] = population[p2][crossover_point:]\n",
    "\n",
    "        # Generating the second child\n",
    "        child1[:crossover_point] = population[p2][:crossover_point]\n",
    "        child1[crossover_point:] = population[p1][crossover_point:]\n",
    "\n",
    "        # Performing mutation on the first child\n",
    "        if np.random.rand() < mutation_chance:\n",
    "            ind = np.random.randint(0, child1.shape[0])\n",
    "            child1[ind] = 1 - child1[ind]\n",
    "\n",
    "        # Updating the population\n",
    "        result.extend([child1, child2])\n",
    "\n",
    "    def main_loop(self, num_iter, num_child, mutation_chance, threshold_weight, weights, costs, *, gif_name=\"GO\", verbose=True, plot=True):\n",
    "        # Function to compute fitness\n",
    "        def fitness(agent):\n",
    "            cost = sum(agent * costs)\n",
    "            weight = sum(agent * weights)\n",
    "            return cost if weight <= threshold_weight else -np.inf\n",
    "        \n",
    "        convergence = []\n",
    "\n",
    "        # plotting\n",
    "        fig, ax = plt.subplots()\n",
    "        images = []\n",
    "        canvas = FigureCanvasAgg(fig)\n",
    "        \n",
    "        dummy = np.zeros(shape=(num_child,1)) # dummy variable to vectorize crossover\n",
    "\n",
    "        best_res = -np.inf\n",
    "        best_solution = np.zeros_like(self.population[0])\n",
    "\n",
    "        for i in range(num_iter):\n",
    "            # Variable to store children after crossover\n",
    "            children = []\n",
    "            self.crossover(num_child=dummy, population=self.population, result=children, mutation_chance=mutation_chance)\n",
    "            self.population = np.append(self.population, children, axis=0)\n",
    "\n",
    "            fitness_arr = np.apply_along_axis(fitness, 1, self.population)\n",
    "            sorted_indices = np.argsort(-fitness_arr) # Multiplying by -1 so that sorted array will be in decrasing order\n",
    "\n",
    "            # Removing bad individuals from population\n",
    "            self.population = self.population[sorted_indices][:self.num_pop]\n",
    "            fitness_arr = fitness_arr[sorted_indices][:self.num_pop]\n",
    "\n",
    "            max_ind = fitness_arr.argmax()\n",
    "            \n",
    "            if fitness_arr[max_ind] > best_res:\n",
    "                best_res = np.copy(fitness_arr[max_ind])\n",
    "                best_solution = np.copy(self.population[max_ind])\n",
    "\n",
    "            convergence.append(best_res)\n",
    "\n",
    "            if i % 10 == 0:\n",
    "                plt.title(f\"Genetic Algorithm on iteration {i}\")\n",
    "                ax.hist(fitness_arr)\n",
    "\n",
    "                # Render the plot as an RGBA buffer\n",
    "                canvas.draw()\n",
    "                buf = canvas.buffer_rgba()\n",
    "\n",
    "                # Create a PIL Image from the RGBA buffer\n",
    "                image = Image.frombytes('RGBA', canvas.get_width_height(), buf, 'raw', 'RGBA')\n",
    "                images.append(image)\n",
    "                plt.cla()\n",
    "\n",
    "            if verbose:\n",
    "                print(\"Iteration: %i\\nBest cost: %s\\nBest solution: %s\" % (i, best_res, best_solution))\n",
    "\n",
    "        # something like pause    \n",
    "        images.extend([images[-1]] * max(100, num_iter // 25 + 1))\n",
    "\n",
    "        images[0].save(f'{gif_name}.gif',\n",
    "            save_all=True, append_images=images[1:], optimize=False, duration=10, loop=0)\n",
    "        \n",
    "        if plot:\n",
    "            plt.plot(range(num_iter), convergence)\n",
    "\n",
    "        return best_res, best_solution"
   ]
  },
  {
   "cell_type": "code",
   "execution_count": 30,
   "metadata": {},
   "outputs": [
    {
     "name": "stderr",
     "output_type": "stream",
     "text": [
      "c:\\Users\\Lenovo\\AppData\\Local\\Programs\\Python\\Python39\\lib\\site-packages\\numpy\\lib\\shape_base.py:402: RuntimeWarning: invalid value encountered in cast\n",
      "  buff[ind] = asanyarray(func1d(inarr_view[ind], *args, **kwargs))\n"
     ]
    },
    {
     "name": "stdout",
     "output_type": "stream",
     "text": [
      "The answer should have weight not bigger than 1989. Answer weight is 1983\n",
      "3324.0\n"
     ]
    },
    {
     "data": {
      "image/png": "[encoded data removed]",
      "text/plain": [
       "<Figure size 640x480 with 1 Axes>"
      ]
     },
     "metadata": {},
     "output_type": "display_data"
    }
   ],
   "source": [
    "weight, weights, costs = get_data(r\"Datasets\\Data50.txt\")\n",
    "test2 = GO(100, len(weights))\n",
    "res, sol = test2.main_loop(250, 50, 0.3, weight, weights, costs, verbose=False)\n",
    "print(f\"The answer should have weight not bigger than {weight}. Answer weight is\", sum(weights * sol))\n",
    "print(res)"
   ]
  }
 ],
 "metadata": {
  "kernelspec": {
   "display_name": "Python 3",
   "language": "python",
   "name": "python3"
  },
  "language_info": {
   "codemirror_mode": {
    "name": "ipython",
    "version": 3
   },
   "file_extension": ".py",
   "mimetype": "text/x-python",
   "name": "python",
   "nbconvert_exporter": "python",
   "pygments_lexer": "ipython3",
   "version": "3.9.5"
  }
 },
 "nbformat": 4,
 "nbformat_minor": 2
}
